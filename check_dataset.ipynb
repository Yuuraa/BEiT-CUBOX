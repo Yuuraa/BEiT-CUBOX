{
 "cells": [
  {
   "cell_type": "code",
   "execution_count": 10,
   "metadata": {},
   "outputs": [],
   "source": [
    "import os\n",
    "import glob\n",
    "\n",
    "CORR_RESPLIT_DIR = \"/mnt/disk1/cubox_dataset/resplit/images\"\n",
    "SERVER_RESPLIT_DIR = \"/home/yura/Downloads/resplit/images\""
   ]
  },
  {
   "cell_type": "code",
   "execution_count": 7,
   "metadata": {},
   "outputs": [
    {
     "data": {
      "text/plain": [
       "32924"
      ]
     },
     "execution_count": 7,
     "metadata": {},
     "output_type": "execute_result"
    }
   ],
   "source": [
    "len(glob.glob(f\"{SERVER_RESPLIT_DIR}/images/train/**/**/**.jpg\"))"
   ]
  },
  {
   "cell_type": "code",
   "execution_count": 9,
   "metadata": {},
   "outputs": [
    {
     "data": {
      "text/plain": [
       "['seg_map_bgr', 'seg_map', 'images']"
      ]
     },
     "execution_count": 9,
     "metadata": {},
     "output_type": "execute_result"
    }
   ],
   "source": [
    "CORR_RESPLIT_DIR = \"/mnt/disk1/cubox_dataset/resplit\"\n",
    "os.listdir(CORR_RESPLIT_DIR)"
   ]
  },
  {
   "cell_type": "code",
   "execution_count": 11,
   "metadata": {},
   "outputs": [],
   "source": [
    "wrongs = []\n",
    "for split in ['train', 'validation', 'test']:\n",
    "    for occl_type in ['none', 'semitransparent', 'wiredense', 'wiremedium', 'wireloose']:\n",
    "        for cls_name in os.listdir(f\"{CORR_RESPLIT_DIR}/train/{occl_type}\"):\n",
    "            if sorted(os.listdir(f\"{CORR_RESPLIT_DIR}/{split}/{occl_type}/{cls_name}\")) != sorted(os.listdir(f\"{SERVER_RESPLIT_DIR}/{split}/{occl_type}/{cls_name}\")):\n",
    "                wrongs.append(f\"{CORR_RESPLIT_DIR}/{split}/{occl_type}/{cls_name}\")"
   ]
  },
  {
   "cell_type": "code",
   "execution_count": 12,
   "metadata": {},
   "outputs": [
    {
     "data": {
      "text/plain": [
       "[]"
      ]
     },
     "execution_count": 12,
     "metadata": {},
     "output_type": "execute_result"
    }
   ],
   "source": [
    "wrongs"
   ]
  },
  {
   "cell_type": "code",
   "execution_count": null,
   "metadata": {},
   "outputs": [],
   "source": []
  }
 ],
 "metadata": {
  "interpreter": {
   "hash": "31f2aee4e71d21fbe5cf8b01ff0e069b9275f58929596ceb00d14d90e3e16cd6"
  },
  "kernelspec": {
   "display_name": "Python 3.8.10 64-bit",
   "language": "python",
   "name": "python3"
  },
  "language_info": {
   "codemirror_mode": {
    "name": "ipython",
    "version": 3
   },
   "file_extension": ".py",
   "mimetype": "text/x-python",
   "name": "python",
   "nbconvert_exporter": "python",
   "pygments_lexer": "ipython3",
   "version": "3.8.10"
  },
  "orig_nbformat": 4
 },
 "nbformat": 4,
 "nbformat_minor": 2
}
