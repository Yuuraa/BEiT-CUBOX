{
 "cells": [
  {
   "cell_type": "code",
   "execution_count": 7,
   "source": [
    "DATA_PATH  = \"/mnt/disk1/cubox_dataset/train_test_splitted\""
   ],
   "outputs": [],
   "metadata": {}
  },
  {
   "cell_type": "code",
   "execution_count": 11,
   "source": [
    "import glob\n",
    "from PIL import Image\n",
    "\n",
    "sizes = []\n",
    "for f in glob.glob(f\"{DATA_PATH}/images/**/**.jpg\"):\n",
    "    sizes.append(\"_\".join(map(str, Image.open(f).size)))"
   ],
   "outputs": [],
   "metadata": {}
  },
  {
   "cell_type": "code",
   "execution_count": 12,
   "source": [
    "from collections import Counter\n",
    "\n",
    "Counter(sizes)"
   ],
   "outputs": [
    {
     "output_type": "execute_result",
     "data": {
      "text/plain": [
       "Counter({'400_300': 38566,\n",
       "         '300_300': 4725,\n",
       "         '451_300': 2730,\n",
       "         '399_300': 290,\n",
       "         '450_300': 520,\n",
       "         '533_300': 1060,\n",
       "         '300_400': 10,\n",
       "         '398_300': 1,\n",
       "         '617_300': 1730})"
      ]
     },
     "metadata": {},
     "execution_count": 12
    }
   ],
   "metadata": {}
  },
  {
   "cell_type": "code",
   "execution_count": 14,
   "source": [
    "400*256/300"
   ],
   "outputs": [
    {
     "output_type": "execute_result",
     "data": {
      "text/plain": [
       "341.3333333333333"
      ]
     },
     "metadata": {},
     "execution_count": 14
    }
   ],
   "metadata": {}
  },
  {
   "cell_type": "code",
   "execution_count": 18,
   "source": [
    "16*22"
   ],
   "outputs": [
    {
     "output_type": "execute_result",
     "data": {
      "text/plain": [
       "352"
      ]
     },
     "metadata": {},
     "execution_count": 18
    }
   ],
   "metadata": {}
  }
 ],
 "metadata": {
  "orig_nbformat": 4,
  "language_info": {
   "name": "python",
   "version": "3.8.10",
   "mimetype": "text/x-python",
   "codemirror_mode": {
    "name": "ipython",
    "version": 3
   },
   "pygments_lexer": "ipython3",
   "nbconvert_exporter": "python",
   "file_extension": ".py"
  },
  "kernelspec": {
   "name": "python3",
   "display_name": "Python 3.8.10 64-bit"
  },
  "interpreter": {
   "hash": "916dbcbb3f70747c44a77c7bcd40155683ae19c65e1c03b4aa3499c5328201f1"
  }
 },
 "nbformat": 4,
 "nbformat_minor": 2
}