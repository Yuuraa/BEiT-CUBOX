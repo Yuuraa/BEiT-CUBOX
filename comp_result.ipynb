{
 "cells": [
  {
   "cell_type": "code",
   "execution_count": 2,
   "metadata": {},
   "outputs": [],
   "source": [
    "comp_dir = \"/home/yura/Computer_Vision_LAB/Semantic_Segmentation/BEiT-CUBOX/test_viz_comp_bgr\""
   ]
  },
  {
   "cell_type": "code",
   "execution_count": 3,
   "metadata": {},
   "outputs": [],
   "source": [
    "import os\n",
    "os.makedirs(comp_dir, exist_ok=True)"
   ]
  },
  {
   "cell_type": "code",
   "execution_count": 4,
   "metadata": {},
   "outputs": [],
   "source": [
    "# ORIG_IMG_PATH = \"/mnt/disk1/cubox_dataset/reorg/images/test\"\n",
    "# ORIG_GT_PATH = \"/home/yura/Computer_Vision_LAB/Semantic_Segmentation/BEiT-CUBOX/visualization/gt\"\n",
    "# NONE2ALL_RESULT_PATH = \"/home/yura/Computer_Vision_LAB/Semantic_Segmentation/BEiT-CUBOX/visualization/none2all\"\n",
    "# SYNTH2ALL_RESULT_PATH = \"/home/yura/Computer_Vision_LAB/Semantic_Segmentation/BEiT-CUBOX/visualization/randsynth\"\n",
    "# ALL2ALL_RESULT_PATH = \"/home/yura/Computer_Vision_LAB/Semantic_Segmentation/BEiT-CUBOX/visualization/all2all\"\n",
    "ORIG_IMG_PATH = \"/mnt/disk1/cubox_dataset/original/images/test\"\n",
    "ORIG_GT_PATH = \"/home/yura/Computer_Vision_LAB/Semantic_Segmentation/experiments_real_backup/visualization/gt\"\n",
    "# NONE2ALL_RESULT_PATH = \"\"\n",
    "SYNTH2ALL_RESULT_PATH = \"/home/yura/Computer_Vision_LAB/Semantic_Segmentation/BEiT-CUBOX/experiments_bgr/visualization_test/synth2all\"\n",
    "ALL2ALL_RESULT_PATH = \"/home/yura/Computer_Vision_LAB/Semantic_Segmentation/BEiT-CUBOX/experiments_bgr/visualization_test/all2all\"\n",
    "\n",
    "\n",
    "SAVE_DIR = comp_dir"
   ]
  },
  {
   "cell_type": "code",
   "execution_count": 5,
   "metadata": {},
   "outputs": [],
   "source": [
    "from PIL import Image\n",
    "import numpy as np\n",
    "import os"
   ]
  },
  {
   "cell_type": "code",
   "execution_count": 6,
   "metadata": {},
   "outputs": [
    {
     "data": {
      "text/plain": [
       "9690"
      ]
     },
     "execution_count": 6,
     "metadata": {},
     "output_type": "execute_result"
    }
   ],
   "source": [
    "len(os.listdir(ORIG_IMG_PATH))"
   ]
  },
  {
   "cell_type": "markdown",
   "metadata": {},
   "source": []
  },
  {
   "cell_type": "code",
   "execution_count": null,
   "metadata": {},
   "outputs": [],
   "source": []
  },
  {
   "cell_type": "markdown",
   "metadata": {},
   "source": [
    "### Compare GT vs. All2All"
   ]
  },
  {
   "cell_type": "code",
   "execution_count": 25,
   "metadata": {},
   "outputs": [
    {
     "ename": "FileNotFoundError",
     "evalue": "[Errno 2] No such file or directory: '/home/yura/Computer_Vision_LAB/Semantic_Segmentation/BEiT-CUBOX/experiments_bgr/visualization_test/all2all/scouringpad_930_01_none.jpg'",
     "output_type": "error",
     "traceback": [
      "\u001b[0;31m---------------------------------------------------------------------------\u001b[0m",
      "\u001b[0;31mFileNotFoundError\u001b[0m                         Traceback (most recent call last)",
      "\u001b[0;32m/tmp/ipykernel_1083324/173791935.py\u001b[0m in \u001b[0;36m<module>\u001b[0;34m\u001b[0m\n\u001b[1;32m     11\u001b[0m             \u001b[0;31m# none2all = Image.open(f\"{NONE2ALL_RESULT_PATH}/{seg_name}\").convert('RGB')\u001b[0m\u001b[0;34m\u001b[0m\u001b[0;34m\u001b[0m\u001b[0;34m\u001b[0m\u001b[0m\n\u001b[1;32m     12\u001b[0m             \u001b[0;31m# synth2all = Image.open(f\"{SYNTH2ALL_RESULT_PATH}/{seg_name}\").convert('RGB')\u001b[0m\u001b[0;34m\u001b[0m\u001b[0;34m\u001b[0m\u001b[0;34m\u001b[0m\u001b[0m\n\u001b[0;32m---> 13\u001b[0;31m             \u001b[0mall2all\u001b[0m \u001b[0;34m=\u001b[0m \u001b[0mImage\u001b[0m\u001b[0;34m.\u001b[0m\u001b[0mopen\u001b[0m\u001b[0;34m(\u001b[0m\u001b[0;34mf\"{ALL2ALL_RESULT_PATH}/{result_name}\"\u001b[0m\u001b[0;34m)\u001b[0m\u001b[0;34m.\u001b[0m\u001b[0mconvert\u001b[0m\u001b[0;34m(\u001b[0m\u001b[0;34m'RGB'\u001b[0m\u001b[0;34m)\u001b[0m\u001b[0;34m\u001b[0m\u001b[0;34m\u001b[0m\u001b[0m\n\u001b[0m\u001b[1;32m     14\u001b[0m \u001b[0;34m\u001b[0m\u001b[0m\n\u001b[1;32m     15\u001b[0m             \u001b[0mw\u001b[0m\u001b[0;34m,\u001b[0m \u001b[0mh\u001b[0m \u001b[0;34m=\u001b[0m \u001b[0morig_img\u001b[0m\u001b[0;34m.\u001b[0m\u001b[0msize\u001b[0m\u001b[0;34m\u001b[0m\u001b[0;34m\u001b[0m\u001b[0m\n",
      "\u001b[0;32m/usr/lib/python3/dist-packages/PIL/Image.py\u001b[0m in \u001b[0;36mopen\u001b[0;34m(fp, mode)\u001b[0m\n\u001b[1;32m   2807\u001b[0m \u001b[0;34m\u001b[0m\u001b[0m\n\u001b[1;32m   2808\u001b[0m     \u001b[0;32mif\u001b[0m \u001b[0mfilename\u001b[0m\u001b[0;34m:\u001b[0m\u001b[0;34m\u001b[0m\u001b[0;34m\u001b[0m\u001b[0m\n\u001b[0;32m-> 2809\u001b[0;31m         \u001b[0mfp\u001b[0m \u001b[0;34m=\u001b[0m \u001b[0mbuiltins\u001b[0m\u001b[0;34m.\u001b[0m\u001b[0mopen\u001b[0m\u001b[0;34m(\u001b[0m\u001b[0mfilename\u001b[0m\u001b[0;34m,\u001b[0m \u001b[0;34m\"rb\"\u001b[0m\u001b[0;34m)\u001b[0m\u001b[0;34m\u001b[0m\u001b[0;34m\u001b[0m\u001b[0m\n\u001b[0m\u001b[1;32m   2810\u001b[0m         \u001b[0mexclusive_fp\u001b[0m \u001b[0;34m=\u001b[0m \u001b[0;32mTrue\u001b[0m\u001b[0;34m\u001b[0m\u001b[0;34m\u001b[0m\u001b[0m\n\u001b[1;32m   2811\u001b[0m \u001b[0;34m\u001b[0m\u001b[0m\n",
      "\u001b[0;31mFileNotFoundError\u001b[0m: [Errno 2] No such file or directory: '/home/yura/Computer_Vision_LAB/Semantic_Segmentation/BEiT-CUBOX/experiments_bgr/visualization_test/all2all/scouringpad_930_01_none.jpg'"
     ]
    }
   ],
   "source": [
    "import tqdm\n",
    "os.makedirs(SAVE_DIR, exist_ok=True)\n",
    "for occl_name in os.listdir(ORIG_IMG_PATH):\n",
    "    for cls_name in os.listdir(f\"{ORIG_IMG_PATH}/{occl_name}\"):\n",
    "        for img_name in sorted(os.listdir(f\"{ORIG_IMG_PATH}/{occl_name}/{cls_name}\")):\n",
    "            orig_img = Image.open(f\"{ORIG_IMG_PATH}/{occl_name}/{cls_name}/{img_name}\").convert('RGB')\n",
    "            seg_name = img_name.split(\".\")[0] + \".png\"\n",
    "            gt = Image.open(f\"{ORIG_GT_PATH}/{seg_name}\").convert('RGB')\n",
    "    \n",
    "            result_name = img_name\n",
    "            # none2all = Image.open(f\"{NONE2ALL_RESULT_PATH}/{seg_name}\").convert('RGB')\n",
    "            # synth2all = Image.open(f\"{SYNTH2ALL_RESULT_PATH}/{seg_name}\").convert('RGB')\n",
    "            all2all = Image.open(f\"{ALL2ALL_RESULT_PATH}/{occl_name}/{cls_name}/{result_name}\").convert('RGB')\n",
    "\n",
    "            w, h = orig_img.size\n",
    "\n",
    "            gt = np.array(gt.resize((w, h)))\n",
    "            # none2all = np.array(none2all.resize((w, h)))\n",
    "            # synth2all = np.array(synth2all.resize((w, h)))\n",
    "            all2all = np.array(all2all.resize((w, h)))\n",
    "\n",
    "            fig = np.zeros((1*h, 3*w, 3))\n",
    "            fig[:, :w, :] = orig_img\n",
    "            fig[:, w:w*2, :] = gt\n",
    "            # fig[:, w*2:w*3, :] = none2all\n",
    "            # fig[:, w*3:w*4, :] = synth2all\n",
    "            fig[:, w*2:w*3, :] = all2all\n",
    "\n",
    "            save_dir = f\"{SAVE_DIR}/{occl_name}/{cls_name}\"\n",
    "            os.makedirs(save_dir, exist_ok=True)\n",
    "\n",
    "            result_img = Image.fromarray(fig.astype(np.uint8))\n",
    "            result_img.save(f\"{SAVE_DIR}/{img_name}\")"
   ]
  },
  {
   "cell_type": "markdown",
   "metadata": {},
   "source": [
    "### Compare GT vs. None2all vs. Synth2all vs. All2all"
   ]
  },
  {
   "cell_type": "code",
   "execution_count": 7,
   "metadata": {},
   "outputs": [
    {
     "name": "stderr",
     "output_type": "stream",
     "text": [
      "100%|██████████| 9690/9690 [01:59<00:00, 81.02it/s]\n"
     ]
    }
   ],
   "source": [
    "import tqdm\n",
    "os.makedirs(SAVE_DIR, exist_ok=True)\n",
    "for img_name in tqdm.tqdm(sorted(os.listdir(ORIG_IMG_PATH))):\n",
    "    orig_img = Image.open(f\"{ORIG_IMG_PATH}/{img_name}\").convert('RGB')\n",
    "    seg_name = img_name.split(\".\")[0] + \".png\"\n",
    "    gt = Image.open(f\"{ORIG_GT_PATH}/{seg_name}\").convert('RGB')\n",
    "    seg_name = img_name.split(\".\")[0] + \".jpg\"\n",
    "    none2all = Image.open(f\"{NONE2ALL_RESULT_PATH}/{seg_name}\").convert('RGB')\n",
    "    synth2all = Image.open(f\"{SYNTH2ALL_RESULT_PATH}/{seg_name}\").convert('RGB')\n",
    "    all2all = Image.open(f\"{ALL2ALL_RESULT_PATH}/{seg_name}\").convert('RGB')\n",
    "\n",
    "    w, h = orig_img.size\n",
    "\n",
    "    gt = np.array(gt.resize((w, h)))\n",
    "    none2all = np.array(none2all.resize((w, h)))\n",
    "    synth2all = np.array(synth2all.resize((w, h)))\n",
    "    all2all = np.array(all2all.resize((w, h)))\n",
    "\n",
    "    fig = np.zeros((1*h, 5*w, 3))\n",
    "    fig[:, :w, :] = orig_img\n",
    "    fig[:, w:w*2, :] = gt\n",
    "    fig[:, w*2:w*3, :] = none2all\n",
    "    fig[:, w*3:w*4, :] = synth2all\n",
    "    fig[:, w*4:w*5, :] = all2all\n",
    "\n",
    "    result_img = Image.fromarray(fig.astype(np.uint8))\n",
    "    result_img.save(f\"{SAVE_DIR}/{img_name}\")"
   ]
  },
  {
   "cell_type": "markdown",
   "metadata": {},
   "source": [
    "## Background class 계산 하지 않고"
   ]
  },
  {
   "cell_type": "code",
   "execution_count": 21,
   "metadata": {},
   "outputs": [
    {
     "name": "stdout",
     "output_type": "stream",
     "text": [
      "mIoU without background:  53.72805\n",
      "mAcc without background:  64.83790000000003\n"
     ]
    }
   ],
   "source": [
    "with open(\"test_eval.txt\", \"r\") as f:\n",
    "    ious, accs = [], []\n",
    "    for l in f.readlines():\n",
    "        iou = float(l.split(\"|\")[2].strip())\n",
    "        acc = float(l.split(\"|\")[-2].strip())\n",
    "        \n",
    "        ious.append(iou)\n",
    "        accs.append(acc)\n",
    "    assert len(ious) == 201\n",
    "    print(\"mIoU without background: \", sum(ious[1:])/ 200)\n",
    "    print(\"mAcc without background: \", sum(accs[1:])/ 200)"
   ]
  },
  {
   "cell_type": "code",
   "execution_count": null,
   "metadata": {},
   "outputs": [],
   "source": []
  }
 ],
 "metadata": {
  "interpreter": {
   "hash": "31f2aee4e71d21fbe5cf8b01ff0e069b9275f58929596ceb00d14d90e3e16cd6"
  },
  "kernelspec": {
   "display_name": "Python 3.8.10 64-bit",
   "name": "python3"
  },
  "language_info": {
   "codemirror_mode": {
    "name": "ipython",
    "version": 3
   },
   "file_extension": ".py",
   "mimetype": "text/x-python",
   "name": "python",
   "nbconvert_exporter": "python",
   "pygments_lexer": "ipython3",
   "version": "3.8.10"
  },
  "orig_nbformat": 4
 },
 "nbformat": 4,
 "nbformat_minor": 2
}
